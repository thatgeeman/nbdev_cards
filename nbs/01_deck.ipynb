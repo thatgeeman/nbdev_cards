{
 "cells": [
  {
   "cell_type": "markdown",
   "metadata": {},
   "source": [
    "# Deck -- a collection of cards"
   ]
  },
  {
   "cell_type": "code",
   "execution_count": null,
   "metadata": {},
   "outputs": [],
   "source": [
    "#|default_exp deck"
   ]
  },
  {
   "cell_type": "code",
   "execution_count": null,
   "metadata": {},
   "outputs": [],
   "source": [
    "#| export\n",
    "from nbdev_cards.card import Card\n",
    "from fastcore.utils import L, patch"
   ]
  },
  {
   "cell_type": "code",
   "execution_count": null,
   "metadata": {},
   "outputs": [
    {
     "data": {
      "text/plain": [
       "K ♠"
      ]
     },
     "execution_count": null,
     "metadata": {},
     "output_type": "execute_result"
    }
   ],
   "source": [
    "#| hide\n",
    "Card(0,13)"
   ]
  },
  {
   "cell_type": "code",
   "execution_count": null,
   "metadata": {},
   "outputs": [],
   "source": [
    "#| export \n",
    "class Deck:\n",
    "    \"Class to store a deck of Cards\"\n",
    "    def __init__(self) -> None:\n",
    "        self.cards = L([Card(s, r) for s in range(0,4) for r in range(1, 14)])\n",
    "    \n",
    "    def __len__(self) -> int:\n",
    "        \"Returns length of the deck\"\n",
    "        return len(self.cards)\n",
    "    \n",
    "    def __str__(self) -> str:\n",
    "        return \", \".join([str(c) for c in self.cards])\n",
    "    \n",
    "    def __repr__(self) -> str:\n",
    "        return self.__str__()\n",
    "    "
   ]
  },
  {
   "cell_type": "code",
   "execution_count": null,
   "metadata": {},
   "outputs": [],
   "source": [
    "deck = Deck()"
   ]
  },
  {
   "cell_type": "code",
   "execution_count": null,
   "metadata": {},
   "outputs": [
    {
     "data": {
      "text/plain": [
       "A ♠, 2 ♠, 3 ♠, 4 ♠, 5 ♠, 6 ♠, 7 ♠, 8 ♠, 9 ♠, 10 ♠, J ♠, Q ♠, K ♠, A ♥, 2 ♥, 3 ♥, 4 ♥, 5 ♥, 6 ♥, 7 ♥, 8 ♥, 9 ♥, 10 ♥, J ♥, Q ♥, K ♥, A ♣, 2 ♣, 3 ♣, 4 ♣, 5 ♣, 6 ♣, 7 ♣, 8 ♣, 9 ♣, 10 ♣, J ♣, Q ♣, K ♣, A ♦, 2 ♦, 3 ♦, 4 ♦, 5 ♦, 6 ♦, 7 ♦, 8 ♦, 9 ♦, 10 ♦, J ♦, Q ♦, K ♦"
      ]
     },
     "execution_count": null,
     "metadata": {},
     "output_type": "execute_result"
    }
   ],
   "source": [
    "deck"
   ]
  },
  {
   "cell_type": "code",
   "execution_count": null,
   "metadata": {},
   "outputs": [
    {
     "data": {
      "text/plain": [
       "(#52) [A ♠,2 ♠,3 ♠,4 ♠,5 ♠,6 ♠,7 ♠,8 ♠,9 ♠,10 ♠...]"
      ]
     },
     "execution_count": null,
     "metadata": {},
     "output_type": "execute_result"
    }
   ],
   "source": [
    "deck.cards"
   ]
  },
  {
   "cell_type": "code",
   "execution_count": null,
   "metadata": {},
   "outputs": [
    {
     "data": {
      "text/plain": [
       "52"
      ]
     },
     "execution_count": null,
     "metadata": {},
     "output_type": "execute_result"
    }
   ],
   "source": [
    "len(deck)"
   ]
  },
  {
   "cell_type": "markdown",
   "metadata": {},
   "source": [
    "Docments style comments"
   ]
  },
  {
   "cell_type": "code",
   "execution_count": null,
   "metadata": {},
   "outputs": [],
   "source": [
    "#| export\n",
    "@patch\n",
    "def pop(self:Deck,  # Deck of Cards\n",
    "            idx=-1  # index to pop, default -1\n",
    "            ) -> Deck:\n",
    "    \"Pop an item from the deck\"\n",
    "    return self.cards.pop(idx)"
   ]
  },
  {
   "cell_type": "code",
   "execution_count": null,
   "metadata": {},
   "outputs": [
    {
     "data": {
      "text/plain": [
       "K ♦"
      ]
     },
     "execution_count": null,
     "metadata": {},
     "output_type": "execute_result"
    }
   ],
   "source": [
    "deck.pop()"
   ]
  },
  {
   "cell_type": "code",
   "execution_count": null,
   "metadata": {},
   "outputs": [
    {
     "data": {
      "text/plain": [
       "51"
      ]
     },
     "execution_count": null,
     "metadata": {},
     "output_type": "execute_result"
    }
   ],
   "source": [
    "len(deck)"
   ]
  },
  {
   "cell_type": "code",
   "execution_count": null,
   "metadata": {},
   "outputs": [],
   "source": [
    "#| export\n",
    "@patch\n",
    "def shuffle(self:Deck,  # `Deck` of `Card``\n",
    "            seed=42  # random seed\n",
    "            ) -> Deck:\n",
    "    \"Shuffle the Deck\"\n",
    "    return self.cards.shuffle()"
   ]
  },
  {
   "cell_type": "markdown",
   "metadata": {},
   "source": [
    "Before shuffle:"
   ]
  },
  {
   "cell_type": "code",
   "execution_count": null,
   "metadata": {},
   "outputs": [
    {
     "data": {
      "text/plain": [
       "A ♠, 2 ♠, 3 ♠, 4 ♠, 5 ♠, 6 ♠, 7 ♠, 8 ♠, 9 ♠, 10 ♠, J ♠, Q ♠, K ♠, A ♥, 2 ♥, 3 ♥, 4 ♥, 5 ♥, 6 ♥, 7 ♥, 8 ♥, 9 ♥, 10 ♥, J ♥, Q ♥, K ♥, A ♣, 2 ♣, 3 ♣, 4 ♣, 5 ♣, 6 ♣, 7 ♣, 8 ♣, 9 ♣, 10 ♣, J ♣, Q ♣, K ♣, A ♦, 2 ♦, 3 ♦, 4 ♦, 5 ♦, 6 ♦, 7 ♦, 8 ♦, 9 ♦, 10 ♦, J ♦, Q ♦"
      ]
     },
     "execution_count": null,
     "metadata": {},
     "output_type": "execute_result"
    }
   ],
   "source": [
    "deck"
   ]
  },
  {
   "cell_type": "markdown",
   "metadata": {},
   "source": [
    "After shuffle:"
   ]
  },
  {
   "cell_type": "code",
   "execution_count": null,
   "metadata": {},
   "outputs": [
    {
     "data": {
      "text/plain": [
       "(#51) [3 ♠,3 ♥,Q ♠,A ♦,8 ♣,2 ♠,K ♠,J ♠,6 ♣,7 ♦...]"
      ]
     },
     "execution_count": null,
     "metadata": {},
     "output_type": "execute_result"
    }
   ],
   "source": [
    "deck.shuffle()"
   ]
  },
  {
   "cell_type": "code",
   "execution_count": null,
   "metadata": {},
   "outputs": [],
   "source": []
  }
 ],
 "metadata": {
  "kernelspec": {
   "display_name": "Python 3.9.7 ('nbdev_cards-GHcTARl3')",
   "language": "python",
   "name": "python3"
  }
 },
 "nbformat": 4,
 "nbformat_minor": 2
}
